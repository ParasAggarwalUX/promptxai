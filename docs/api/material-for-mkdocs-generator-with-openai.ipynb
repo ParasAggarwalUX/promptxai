{
 "cells": [
  {
   "cell_type": "code",
   "execution_count": 1,
   "id": "29dfe2c2",
   "metadata": {},
   "outputs": [],
   "source": [
    "from promptxai import core\n",
    "import json\n",
    "import openai"
   ]
  },
  {
   "cell_type": "code",
   "execution_count": 2,
   "id": "e9920903",
   "metadata": {},
   "outputs": [],
   "source": [
    "SUMMARY_LENGTH = 2000"
   ]
  },
  {
   "cell_type": "code",
   "execution_count": 3,
   "id": "bf6ccdf9",
   "metadata": {},
   "outputs": [],
   "source": [
    "with open(\"../chatgpt/openai-ceo-sam-altman-on-ai-for-the-next-era.md\", \"r\") as f:\n",
    "    transcript = f.read()"
   ]
  },
  {
   "cell_type": "code",
   "execution_count": 4,
   "id": "3af7e50a",
   "metadata": {},
   "outputs": [
    {
     "data": {
      "text/plain": [
       "21"
      ]
     },
     "execution_count": 4,
     "metadata": {},
     "output_type": "execute_result"
    }
   ],
   "source": [
    "transcript_chars = len(transcript)\n",
    "number_of_chunks = int(transcript_chars/SUMMARY_LENGTH)\n",
    "number_of_chunks"
   ]
  },
  {
   "cell_type": "code",
   "execution_count": 5,
   "id": "8886043d",
   "metadata": {},
   "outputs": [
    {
     "data": {
      "text/plain": [
       "219.70000000000002"
      ]
     },
     "execution_count": 5,
     "metadata": {},
     "output_type": "execute_result"
    }
   ],
   "source": [
    "runs = 1 # Sumarize, Diagram, Read more links\n",
    "usd_1k_tokens = 0.02\n",
    "transcript_tokens = core.chars_to_tokens(transcript_chars)\n",
    "run_cost = usd_1k_tokens * transcript_tokens\n",
    "run_cost"
   ]
  },
  {
   "cell_type": "code",
   "execution_count": null,
   "id": "da24fdca",
   "metadata": {},
   "outputs": [],
   "source": [
    "publish = False\n",
    "if publish = True\n",
    "    # split the transcript into chunks of recommended length\n",
    "    chunks = []\n",
    "    for i in range(0, len(transcript), SUMMARY_LENGTH):\n",
    "        chunk = {\"sequence\": i // SUMMARY_LENGTH + 1,\n",
    "                 \"chunk\": transcript[i:i+SUMMARY_LENGTH],\n",
    "                 \"summary\": \"\"}\n",
    "        chunks.append(chunk)\n",
    "\n",
    "    # generate a summary for each chunk using OpenAI API\n",
    "    for chunk in chunks:\n",
    "        prompt = f\"Summarize this chunk of the transcript:\\n{chunk['chunk']}\\n\\nSummary:\"\n",
    "        response = openai.Completion.create(\n",
    "            engine=\"davinci\",\n",
    "            prompt=prompt,\n",
    "            temperature=0.5,\n",
    "            max_tokens=,\n",
    "            top_p=1,\n",
    "            frequency_penalty=0,\n",
    "            presence_penalty=0\n",
    "        )\n",
    "        summary = response.choices[0].text.strip()\n",
    "        chunk['summary'] = summary\n",
    "\n",
    "    # create a dictionary with the transcript chunks and summaries\n",
    "    transcript_dict = {\"transcript_chunks\": chunks}\n",
    "\n",
    "    # store the dictionary as a JSON object\n",
    "    with open(\"transcript_summary.json\", \"w\") as f:\n",
    "        json.dump(transcript_dict, f, indent=4)\n"
   ]
  }
 ],
 "metadata": {
  "kernelspec": {
   "display_name": "Python 3 (ipykernel)",
   "language": "python",
   "name": "python3"
  },
  "language_info": {
   "codemirror_mode": {
    "name": "ipython",
    "version": 3
   },
   "file_extension": ".py",
   "mimetype": "text/x-python",
   "name": "python",
   "nbconvert_exporter": "python",
   "pygments_lexer": "ipython3",
   "version": "3.7.9"
  }
 },
 "nbformat": 4,
 "nbformat_minor": 5
}
