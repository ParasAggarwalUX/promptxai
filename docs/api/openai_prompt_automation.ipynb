{
 "cells": [
  {
   "cell_type": "code",
   "execution_count": 1,
   "id": "2772f692",
   "metadata": {},
   "outputs": [],
   "source": [
    "import openai\n",
    "import os"
   ]
  },
  {
   "cell_type": "code",
   "execution_count": 2,
   "id": "b968e3c0",
   "metadata": {},
   "outputs": [],
   "source": [
    "openai.api_key = os.getenv(\"OPENAI_KEY\")\n",
    "openai_model = 'text-davinci-003'\n",
    "\n",
    "def tokens(words: int) -> int:\n",
    "    return int(words * 4/3 + 1)"
   ]
  },
  {
   "cell_type": "code",
   "execution_count": 18,
   "id": "cf5b235e",
   "metadata": {},
   "outputs": [
    {
     "name": "stdout",
     "output_type": "stream",
     "text": [
      "| Name | Parameters | Training Data | Release Date | License | Link to Publisher |\n",
      "| --- | --- | --- | --- | --- | --- |\n",
      "| GPT-3 | 175 billion | Common Crawl, BooksCorpus, WebText | June 2020 | OpenAI API | [OpenAI](https://openai.com/blog/gpt-3/) |\n",
      "| T5 | 11 billion | C4, Wikipedia, BooksCorpus, WebText | May 2020 | Apache 2.0 | [Google AI](https://ai.googleblog.com/2020/02/exploring-transfer-learning-with-t5.html) |\n",
      "| BERT | 340 million | BooksCorpus, Wikipedia | October 2018 | Apache 2.0 | [Google AI](https://ai.googleblog.com/2018/11/open-sourcing-bert-state-of-art-pre.html) |\n",
      "| XLNet | 560 million | BooksCorpus, Wikipedia | June 2019 | Apache 2.0 | [Google AI](https://ai.googleblog.com/2019/06/xlnet-generalized-autoregressive.html) |\n",
      "| RoBERTa | 355 million | BooksCorpus, Wikipedia | October 2019 | Apache 2.0 | [Facebook AI](https://ai.facebook.com/blog/roberta-an-optimized-method-for-pretraining-nlp/) |\n",
      "| ALBERT | 18 million | BooksCorpus, Wikipedia | October 2019 | Apache 2.0 | [Google AI](https://ai.googleblog.com/2019/12/albert-lite-bert-for-self-supervised.html) |\n",
      "| ELECTRA | 125 million | BooksCorpus, Wikipedia | March 2020 | Apache 2.0 | [Google AI](https://ai.googleblog.com/2020/03/electra-pre-training-text-encoders-as.html) |\n",
      "| BART | 400 million | C4, BooksCorpus, Wikipedia | May 2020 | Apache 2.0 | [Facebook AI](https://ai.facebook.com/blog/bart-denoising-sequence-to-sequence-pre-training-for-nlg/) |\n",
      "| Reformer | 1.6 billion | BooksCorpus, Wikipedia | June 2020 | Apache 2.0 | [Google AI](https://ai.googleblog.com/2020/06/reformer-efficient-transformer.html) |\n",
      "| Longformer | 1.6 billion | BooksCorpus, Wikipedia | June 2020 | Apache 2.0 | [AI2](https://allenai.org/blog/longformer/) |\n",
      "| XLM-R | 550 million | BooksCorpus, Wikipedia | June 2020 | Apache 2.0 | [Facebook AI](https://ai.facebook.com/blog/xlm-r-large-scale-cross-lingual-language-model/) |\n",
      "| CTRL | 1.6 billion | BooksCorpus, Wikipedia | August 2020 | Apache 2.0 | [Salesforce Research](https://blog.einstein.ai/ctrl-a-conditional-transformer-language-model-for-controllable-generation/) |\n",
      "| TAPAS | 1.6 billion | BooksCorpus, Wikipedia | August 2020 | Apache 2.0 | [Google AI](https://ai.googleblog.com/2020/08/tapas-table-paraphrasing-with-structured.html) |\n",
      "| MT-DNN | 1.6 billion | BooksCorpus, Wikipedia | August 2020 | Apache 2.0 | [Microsoft Research](https://www.microsoft.com/en-us/research/blog/mt-dnn-a-general-purpose-language-understanding-system/) |\n",
      "| DeBERTa | 355 million | BooksCorpus, Wikipedia | August 2020 | Apache 2.0 | [Microsoft Research](https://www.microsoft.com/en-us/research/blog/deberta-a-deeper-bidirectional-transformer-for-language-understanding/) |\n",
      "| SpanBERT | 355 million | BooksCorpus, Wikipedia | August 2020 | Apache 2.0 | [Microsoft Research](https://www.microsoft.com/en-us/research/blog/spanbert-improving-pre-training-by-representing-and-predicting-spans/) |\n",
      "| UniLM | 1.6 billion | BooksCorpus, Wikipedia | August 2020 | Apache 2.0 | [Microsoft Research](https://www.microsoft.com/en-us/research/blog/unilm-a-unified-language-model-for-natural-language-understanding-and-generation/) |\n",
      "| ERNIE 2.0 | 1.6 billion | BooksCorpus, Wikipedia | August 2020 | Apache 2.0 | [Baidu Research](https://arxiv.org/abs/1907.12412) |\n",
      "| Megatron-LM | 8.3 billion | BooksCorpus, Wikipedia | August 2020 | Apache 2.0 | [NVIDIA](https://blogs.nvidia.com/blog/2020/08/20/megatron-language-model/) |\n",
      "| XLM | 550 million | BooksCorpus, Wikipedia | September 2019 | Apache 2.0 | [Facebook AI](https://ai.facebook.com/blog/xlm-a-massively-multilingual-sentence-embedding-using-pretrained-transformers/) |\n",
      "| XLM-RoBERTa | 550 million | BooksCorpus, Wikipedia | April 2020 | Apache 2.0 | [Facebook AI](https://ai.facebook.com/blog/xlm-roberta-state-of-the-art-cross-lingual-understanding/) |\n"
     ]
    }
   ],
   "source": [
    "prompt = '''Only respond using markdown with accurate facts from reputable sources.\n",
    "Create a table of 20 most popular and \n",
    "recently released Large Language Models \n",
    "with columns for name, parameters, training data, \n",
    "release date, license, link to publisher.\n",
    "'''\n",
    "completion = openai.Completion.create(prompt=prompt, \n",
    "                                      model=openai_model,\n",
    "                                      max_tokens=2000,\n",
    "                                     temperature=0)\n",
    "print(completion.choices[0].text.strip())"
   ]
  },
  {
   "cell_type": "code",
   "execution_count": 21,
   "id": "7aa3ce2c",
   "metadata": {},
   "outputs": [
    {
     "name": "stdout",
     "output_type": "stream",
     "text": [
      "Large language models are a type of artificial intelligence (AI) that use deep learning techniques to process natural language. They are being used in a wide range of applications, from chatbots to summarizing text.\n",
      "\n",
      "The concept of large language models was first introduced by Google in 2018 with its BERT (Bidirectional Encoder Representations from Transformers) model. BERT was trained on a large corpus of text to learn the relationships between words and phrases. This enabled it to better understand the context of the text and produce more accurate results.\n",
      "\n",
      "Since then, the use of large language models has grown exponentially. According to one industry influencer, Andrew Ng, “Large language models are revolutionizing natural language processing. They are more accurate, faster, and easier to use than traditional language models.”\n",
      "\n",
      "Large language models are also being used to generate text. OpenAI’s GPT-3 (Generative Pre-trained Transformer 3) is a large language model that can generate human-like text from a few words of input. It is being used to generate articles, stories, and even code.\n",
      "\n",
      "The potential of large language models is immense. As Andrew Ng said, “The ability to generate human-like text is a game-changer for natural language processing. It opens up a whole new world of possibilities for AI applications.”\n",
      "\n",
      "Large language models are also being used to improve the accuracy of machine translation. Google’s Translatotron is a large language model that can translate from one language to another without relying on a separate machine translation system. This has the potential to significantly reduce the time and cost associated with traditional machine translation systems.\n",
      "\n",
      "The possibilities of large language models are exciting, and the technology is only going to get better. As another industry influencer, Fei-Fei Li, said, “Large language models are going to be the foundation of the next wave of AI applications.”\n"
     ]
    }
   ],
   "source": [
    "prompt = '''As an expert in the field of machine learning\n",
    "explain, in a narrative style, large language models with \n",
    "factually accurate information using anecdotes from industry \n",
    "influencers and thought leaders.'''\n",
    "completion = openai.Completion.create(prompt=prompt, \n",
    "                                      model=openai_model,\n",
    "                                      max_tokens=1000,\n",
    "                                     temperature=0.5)\n",
    "print(completion.choices[0].text.strip())"
   ]
  },
  {
   "cell_type": "code",
   "execution_count": 3,
   "id": "64d94442",
   "metadata": {},
   "outputs": [
    {
     "name": "stdout",
     "output_type": "stream",
     "text": [
      "-Urban Light Installation Project: An Art Installation Featuring Kinetic Artworks Powered by Physics\n",
      "-Street Mural Showcasing Newtonian Physics\n",
      "-Public Sculpture Garden Exploring the Interaction Between Physics and Architecture \n",
      "-Interactive Physics Exhibit in an Urban Park\n",
      "-Underground Science/Art Gallery Showcasing Art Inspired by Physics\n",
      "-Collaborative Interactive Performance Art on Physics in a City Park\n",
      "-Giant Interactive Street Art Display Showcasing Physics Themes\n",
      "-Community Art Project Exploring Physics in Urban Environments\n",
      "-Physicist-Led Urban Sculpture Tour of a City\n",
      "-City-Wide Festival Celebrating the Connection Between Physics and Art\n",
      "-Physics-Inspired Paintings on City Walls\n"
     ]
    }
   ],
   "source": [
    "prompt_start = 'List top 10 large language models :\\n'\n",
    "prompt_input = 'physics art city'\n",
    "completion = openai.Completion.create(prompt=prompt_start + prompt_input, \n",
    "                                      model=openai_model,\n",
    "                                      max_tokens=200)\n",
    "print(completion.choices[0].text.strip())"
   ]
  },
  {
   "cell_type": "code",
   "execution_count": 4,
   "id": "9afd359d",
   "metadata": {},
   "outputs": [
    {
     "name": "stdout",
     "output_type": "stream",
     "text": [
      "A street art gallery celebrating the power of thermodynamics is a place dedicated to showcasing different forms of art that reference the science of thermodynamics. This could include sculptures, murals, installations and other creative forms that are inspired by concepts such as heat, energy and power. The goal of this type of gallery is to bring attention to the forces of thermodynamics, while at the same time providing an educational experience to visitors. The gallery could feature artists from around the globe, displaying how global perspectives on thermodynamics could be differently interpreted. Additionally, it might include information about the development of thermodynamics, such as its early application to heat engines and its more contemporary efforts in sustainable energy usage. It would be an engaging, informative and inspiring experience for viewers of all ages.\n"
     ]
    }
   ],
   "source": [
    "prompt_start = 'Elaborate the text:\\n'\n",
    "prompt_input = 'A Street Art Gallery Celebrating the Power of Thermodynamics'\n",
    "completion = openai.Completion.create(prompt=prompt_start + prompt_input, \n",
    "                                      model=openai_model,\n",
    "                                      max_tokens=300)\n",
    "topic = completion.choices[0].text.strip()\n",
    "print(topic)"
   ]
  },
  {
   "cell_type": "code",
   "execution_count": 5,
   "id": "f5f8a136",
   "metadata": {},
   "outputs": [
    {
     "name": "stdout",
     "output_type": "stream",
     "text": [
      "She walks home as she doesn't want to use a car.\n"
     ]
    }
   ],
   "source": [
    "prompt_start = 'Correct this to standard English:\\n'\n",
    "prompt_input = 'Girl walks no home car use she wants'\n",
    "completion = openai.Completion.create(prompt=prompt_start + prompt_input, \n",
    "                                      model=openai_model)\n",
    "print(completion.choices[0].text.strip())"
   ]
  },
  {
   "cell_type": "code",
   "execution_count": 6,
   "id": "4ae0206f",
   "metadata": {},
   "outputs": [
    {
     "name": "stdout",
     "output_type": "stream",
     "text": [
      "A street art gallery celebrates the science of thermodynamics. It has sculptures, murals, installations and other forms of art that show how heat, energy and power can be expressed through art. It is a fun and educational experience for people of all ages to learn more about thermodynamics.\n"
     ]
    }
   ],
   "source": [
    "prompt_start = 'Summarize this for a second-grade student:\\n'\n",
    "prompt_input = topic\n",
    "token_calc = tokens(int(len(topic.split())*1.5))\n",
    "completion = openai.Completion.create(prompt=prompt_start + prompt_input, \n",
    "                                      model=openai_model,\n",
    "                                     temperature=0.7,\n",
    "                                     max_tokens=token_calc)\n",
    "print(completion.choices[0].text.strip())"
   ]
  },
  {
   "cell_type": "code",
   "execution_count": 7,
   "id": "d9bacb0a",
   "metadata": {},
   "outputs": [
    {
     "name": "stdout",
     "output_type": "stream",
     "text": [
      "A street art gallery celebrating the power of thermodynamics is a place that showcases sculptures, murals, installations and other forms of art inspired by the science of thermodynamics. It encourages exploration of the forces of thermodynamics, while providing an educational and inspiring experience to viewers of all ages. The gallery could feature artists from around the globe, displaying their unique interpretations of thermodynamics, and include information about the development of the science.\n"
     ]
    }
   ],
   "source": [
    "prompt_start = 'Summarize this for a graduate student:\\n'\n",
    "prompt_input = topic\n",
    "token_calc = tokens(int(len(topic.split())*1.5))\n",
    "completion = openai.Completion.create(prompt=prompt_start + prompt_input, \n",
    "                                      model=openai_model,\n",
    "                                     temperature=0.7,\n",
    "                                     max_tokens=token_calc)\n",
    "print(completion.choices[0].text.strip())"
   ]
  },
  {
   "cell_type": "code",
   "execution_count": 26,
   "id": "22dea688",
   "metadata": {},
   "outputs": [
    {
     "name": "stdout",
     "output_type": "stream",
     "text": [
      "The average distance between Earth and Mars is 225 million kilometers (140 million miles). Source: NASA (https://www.nasa.gov/audience/forstudents/k-4/stories/nasa-knows/what-is-the-distance-between-earth-and-mars-k4.html)\n"
     ]
    }
   ],
   "source": [
    "prompt_start = '''Answer question with a truthful answer only and \n",
    "    where available cite a well known source for the answer:\\n'''\n",
    "prompt_input = 'What is the distance between Earth and Mars?'\n",
    "token_calc = tokens(int(len(topic.split())*2.5))\n",
    "completion = openai.Completion.create(prompt=prompt_start + prompt_input, \n",
    "                                      model=openai_model,\n",
    "                                     temperature=0,\n",
    "                                     max_tokens=token_calc)\n",
    "print(completion.choices[0].text.strip())"
   ]
  },
  {
   "cell_type": "code",
   "execution_count": 40,
   "id": "832906be",
   "metadata": {},
   "outputs": [
    {
     "name": "stdout",
     "output_type": "stream",
     "text": [
      "According to a report by Grand View Research, the cloud market size in the US is expected to reach USD 645.7 billion by 2021, registering a CAGR of 17.5% during the forecast period from 2016 to 2021. (Source: https://www.grandviewresearch.com/industry-analysis/us-cloud-market)\n"
     ]
    }
   ],
   "source": [
    "prompt_start = '''Answer question with a truthful answer only and \n",
    "    where available cite a well known source for the answer:\\n'''\n",
    "prompt_input = 'What is the five year trend in CAGR of cloud market size in USA up to 2021?'\n",
    "token_calc = tokens(int(len(topic.split())*2.5))\n",
    "completion = openai.Completion.create(prompt=prompt_start + prompt_input, \n",
    "                                      model=openai_model,\n",
    "                                     temperature=0,\n",
    "                                     max_tokens=token_calc)\n",
    "print(completion.choices[0].text.strip())"
   ]
  },
  {
   "cell_type": "code",
   "execution_count": 41,
   "id": "e274ba7d",
   "metadata": {},
   "outputs": [
    {
     "name": "stdout",
     "output_type": "stream",
     "text": [
      "{\n",
      "  \"year\": \"2016-2021\",\n",
      "  \"location\": \"US\",\n",
      "  \"market\": \"Cloud Market\",\n",
      "  \"CAGR\": \"17.5%\",\n",
      "  \"value\": \"USD 645.7 billion\",\n",
      "  \"source\": \"https://www.grandviewresearch.com/industry-analysis/us-cloud-market\"\n",
      "}\n"
     ]
    }
   ],
   "source": [
    "prompt_start = 'Return a json object of year, location, market, CAGR, value, and source from this text:\\n'\n",
    "prompt_input = completion.choices[0].text.strip()\n",
    "token_calc = tokens(int(len(topic.split())*2.5))\n",
    "completion = openai.Completion.create(prompt=prompt_start + prompt_input, \n",
    "                                      model=openai_model,\n",
    "                                     temperature=0,\n",
    "                                     max_tokens=token_calc)\n",
    "print(completion.choices[0].text.strip())"
   ]
  },
  {
   "cell_type": "code",
   "execution_count": 51,
   "id": "74c0c0bb",
   "metadata": {},
   "outputs": [
    {
     "name": "stdout",
     "output_type": "stream",
     "text": [
      "The LG OLED CX is a popular smart TV recommendation for an artist who is an audiophile, living in a studio apartment in 2022. It has been praised for its excellent picture quality and sound, as well as its thin design that fits well in a studio apartment. According to CNET, the LG OLED CX is the \"best TV for 2021\".\n"
     ]
    }
   ],
   "source": [
    "prompt_start = '''Answer question with a truthful answer only and \n",
    "    where available cite a well known source for the answer:\\n'''\n",
    "prompt_input = '''What is a popular smart TV recommendation in 2022 for an artist who is an audiophile, \n",
    "    living in a studio apartment?'''\n",
    "token_calc = tokens(int(len(topic.split())*2.5))\n",
    "completion = openai.Completion.create(prompt=prompt_start + prompt_input, \n",
    "                                      model=openai_model,\n",
    "                                     temperature=0,\n",
    "                                     max_tokens=token_calc)\n",
    "print(completion.choices[0].text.strip())"
   ]
  },
  {
   "cell_type": "code",
   "execution_count": 52,
   "id": "b9930db7",
   "metadata": {},
   "outputs": [
    {
     "name": "stdout",
     "output_type": "stream",
     "text": [
      "{\n",
      "    \"year\": 2022,\n",
      "    \"product\": \"LG OLED CX\",\n",
      "    \"ranking\": \"best TV for 2021\",\n",
      "    \"consumer attributes\": \"audiophile, living in a studio apartment\",\n",
      "    \"product features\": \"excellent picture quality and sound, thin design\",\n",
      "    \"source\": \"CNET\"\n",
      "}\n"
     ]
    }
   ],
   "source": [
    "prompt_start = '''Return a json object of year, product, ranking, consumer attributes, \n",
    "    product features, and source from this text:\\n'''\n",
    "prompt_input = completion.choices[0].text.strip()\n",
    "token_calc = tokens(int(len(topic.split())*2.5))\n",
    "completion = openai.Completion.create(prompt=prompt_start + prompt_input, \n",
    "                                      model=openai_model,\n",
    "                                     temperature=0,\n",
    "                                     max_tokens=token_calc)\n",
    "print(completion.choices[0].text.strip())"
   ]
  },
  {
   "cell_type": "code",
   "execution_count": 4,
   "id": "1d7b8bc3",
   "metadata": {},
   "outputs": [
    {
     "name": "stdout",
     "output_type": "stream",
     "text": [
      "```mermaid\n",
      "graph TD\n",
      "subgraph The Unicorn Project\n",
      "  User[User]\n",
      "  System[System]\n",
      "  DevOps[DevOps]\n",
      "  Business[Business]\n",
      "  EndUser[End User]\n",
      "end\n",
      "\n",
      "User --> System\n",
      "System --> DevOps\n",
      "DevOps --> System\n",
      "Business --> System\n",
      "EndUser --> System\n",
      "```\n"
     ]
    }
   ],
   "source": [
    "prompt = '''\n",
    "Generate Mermaid.js code for a context diagram that shows the main entities \n",
    "and their relationships in the book The Unicorn Project.\n",
    "Include the interactions between entities using the →| Relationship | syntax \n",
    "to indicate the relationships between the different entities. \n",
    "Use subgraphs clustering entities of similar class.\n",
    "'''\n",
    "completion = openai.Completion.create(prompt=prompt, \n",
    "                                      model=openai_model,\n",
    "                                     temperature=0,\n",
    "                                     max_tokens=500)\n",
    "print(completion.choices[0].text.strip())"
   ]
  },
  {
   "cell_type": "code",
   "execution_count": 11,
   "id": "57369b7b",
   "metadata": {},
   "outputs": [
    {
     "name": "stdout",
     "output_type": "stream",
     "text": [
      "Prompt engineering is a technique used to improve the performance of natural language processing (NLP) models such as ChatGPT and Midjourney. It involves carefully crafting the input to the model to ensure that it produces the desired output. This can involve changing the wording of the input, adding additional context, or providing additional information. By doing this, the model can better understand the user’s intent and provide more accurate and relevant responses. Prompt engineering can also be used to improve the model’s ability to generate natural-sounding responses.\n"
     ]
    }
   ],
   "source": [
    "prompt = '''\n",
    "Explain Prompt Engineering as it applies to models like ChatGPT and Midjourney\n",
    "'''\n",
    "completion = openai.Completion.create(prompt=prompt, \n",
    "                                      model=openai_model,\n",
    "                                     temperature=0,\n",
    "                                     max_tokens=500)\n",
    "print(completion.choices[0].text.strip())"
   ]
  },
  {
   "cell_type": "code",
   "execution_count": 13,
   "id": "03a07462",
   "metadata": {},
   "outputs": [
    {
     "name": "stdout",
     "output_type": "stream",
     "text": [
      "Generative AI is a type of artificial intelligence that focuses on creating new data from existing data. It is used to generate new data that is similar to existing data, but not identical. Generative AI can be used to create new images, music, text, and videos.\n",
      "\n",
      "One of the most well-known examples of generative AI is Google’s DeepDream. DeepDream is a computer vision program that uses a deep neural network to generate new images based on existing images. It can be used to create surreal and abstract images from existing photographs.\n",
      "\n",
      "Another example of generative AI is OpenAI’s GPT-3. GPT-3 is a natural language processing system that can generate text based on existing text. It can be used to generate new stories, articles, and other written content.\n",
      "\n",
      "Finally, generative AI can also be used to create new music. Google’s Magenta project uses generative AI to create new music based on existing music. It can be used to create new compositions or remix existing songs.\n",
      "\n",
      "Sources:\n",
      "\n",
      "- https://www.analyticsinsight.net/what-is-generative-ai/\n",
      "- https://www.forbes.com/sites/cognitiveworld/2020/07/14/what-is-generative-ai-and-how-it-works/#3f9f9f9f3f2f\n",
      "- https://www.towardsdatascience.com/generative-ai-what-it-is-and-how-it-works-f9f9f9f3f2f\n"
     ]
    }
   ],
   "source": [
    "prompt = '''\n",
    "Explain Generative AI with well known examples. Cite sources.\n",
    "'''\n",
    "completion = openai.Completion.create(prompt=prompt, \n",
    "                                      model=openai_model,\n",
    "                                     temperature=0,\n",
    "                                     max_tokens=1000)\n",
    "print(completion.choices[0].text.strip())"
   ]
  },
  {
   "cell_type": "code",
   "execution_count": 15,
   "id": "40b5544c",
   "metadata": {},
   "outputs": [
    {
     "name": "stdout",
     "output_type": "stream",
     "text": [
      "Artificial General Intelligence (AGI) is a type of artificial intelligence (AI) that is capable of understanding and learning any task that a human can, and can apply that knowledge to any situation. AGI is a form of AI that is able to think and reason like a human, and can learn from its environment and experiences. AGI is often referred to as strong AI, and is considered to be the ultimate goal of AI research. AGI is different from narrow AI, which is designed to perform specific tasks, such as facial recognition or playing a game of chess. AGI is a more general form of AI that can be applied to any problem or task.\n",
      "\n",
      "Sources: \n",
      "\n",
      "1. https://www.investopedia.com/terms/a/artificial-general-intelligence.asp\n",
      "2. https://www.forbes.com/sites/bernardmarr/2018/08/20/what-is-artificial-general-intelligence-agi-the-ultimate-ai/#3f9f9f9f7f2f\n",
      "3. https://www.techopedia.com/definition/33862/artificial-general-intelligence-agi\n"
     ]
    }
   ],
   "source": [
    "prompt = '''\n",
    "Explain Artificial General Intelligence. Cite sources.\n",
    "'''\n",
    "completion = openai.Completion.create(prompt=prompt, \n",
    "                                      model=openai_model,\n",
    "                                     temperature=0,\n",
    "                                     max_tokens=1000)\n",
    "print(completion.choices[0].text.strip())"
   ]
  }
 ],
 "metadata": {
  "kernelspec": {
   "display_name": "Python 3 (ipykernel)",
   "language": "python",
   "name": "python3"
  },
  "language_info": {
   "codemirror_mode": {
    "name": "ipython",
    "version": 3
   },
   "file_extension": ".py",
   "mimetype": "text/x-python",
   "name": "python",
   "nbconvert_exporter": "python",
   "pygments_lexer": "ipython3",
   "version": "3.10.10"
  }
 },
 "nbformat": 4,
 "nbformat_minor": 5
}
