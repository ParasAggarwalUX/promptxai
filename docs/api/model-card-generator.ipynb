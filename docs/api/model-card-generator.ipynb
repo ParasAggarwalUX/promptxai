{
 "cells": [
  {
   "cell_type": "code",
   "execution_count": 1,
   "id": "769230c2",
   "metadata": {},
   "outputs": [],
   "source": [
    "from promptxai import models, content, prompts"
   ]
  },
  {
   "cell_type": "code",
   "execution_count": 2,
   "id": "74482f5e",
   "metadata": {},
   "outputs": [],
   "source": [
    "openai = models.OpenAI()\n",
    "model_card = content.ModelCard()"
   ]
  },
  {
   "cell_type": "code",
   "execution_count": 3,
   "id": "4b663a9f",
   "metadata": {},
   "outputs": [],
   "source": [
    "model_card.set_url('About Model', 'https://www.yitay.net/blog/flan-ul2-20b')\n",
    "model_card.set_url('Hugging Face', 'https://huggingface.co/google/flan-ul2')\n",
    "model_card.set_url('Research Paper', 'https://arxiv.org/abs/2205.05131')\n",
    "model_card.set_url('Demo', 'https://huggingface.co/spaces/ybelkada/i-like-flan-ul2')"
   ]
  },
  {
   "cell_type": "code",
   "execution_count": 4,
   "id": "b60d5e99",
   "metadata": {},
   "outputs": [],
   "source": [
    "parser = content.Webpage(model_card.get_url('About Model'))"
   ]
  },
  {
   "cell_type": "code",
   "execution_count": 5,
   "id": "f1c9be6a",
   "metadata": {},
   "outputs": [
    {
     "name": "stdout",
     "output_type": "stream",
     "text": [
      "Note: Views here are personal opinions and do not represent that of my employer. TL;DR: We release a new open source Flan 20B model that was trained on top of the already open sourced UL2 20B checkpoint.  The full technical details have already been updated to the UL2 paper and the checkpoints have been uploaded to Github. Naturally, this model has the same configuration as the original UL2 20B model, except that it has been instruction tuned with Flan.  We expect that it substantially improve “usability” of the original UL2 model. This model, similar to Flan-T5 and the original UL2 models, are released on Apache license. Flan Instruction Tuning In “Scaling Instruction-Finetuned language models (Chung et al.)” (also referred to sometimes as the Flan2 paper), the key idea is to train a large language model on a collection of datasets. These datasets are phrased as instructions which enable generalization across diverse tasks. Flan has been primarily trained on academic tasks. In Flan2, we released a series of T5 models ranging from 200M to 11B parameters that have been instruction tuned with Flan. The Flan datasets have also been open sourced in “The Flan Collection: Designing Data and Methods for Effective Instruction Tuning” (Longpre et al.). See Google AI Blogpost: “The Flan Collection: Advancing Open Source Methods for Instruction Tuning”.  Flan 20B with UL2 20B checkpoint The UL2 20B was open sourced back in Q2 2022 (see “Blogpost: UL2 20B: An Open Source Unified Language Learner”). UL2 20B (~19.5B parameters to be exact) is trained  exclusively on the C4 corpus (similar to T5 models). The UL2 model was trained on the new UL2 objective which trains on a mixture-of-denoisers (diverse span corruption and prefix language modeling tasks). There are two major updates we make to the UL2 20B model with Flan.  The original UL2 model was only trained with receptive field of 512, which made it non-ideal for N-shot prompting where N is large. This Flan-UL2 checkpoint uses a receptive field of 2048 which makes it more usable for few-shot in-context learning. The original UL2 model also had mode switch tokens that was rather mandatory to get good performance. However, they were a little cumbersome as this requires often some changes during inference or finetuning. In this update/change, we continue training UL2 20B for an additional 100k steps (with small batch) to forget “mode tokens” before applying Flan instruction tuning. This Flan-UL2 checkpoint does not require mode tokens anymore. Overall Quality We compare Flan-UL2 20B with other models in the Flan series. We report relative improvements over Flan-T5-XXL. Generally, Flan-UL2 outperforms Flan-T5 XXL on all four setups with an overall decent performance lift of +3.2% relative improvement. Most of the gains seem to come from the CoT setup while performance on direct prompting (MMLU and BBH) seems to be modest at best. We also note that the overall performance of Flan-UL2 20B approaches the performance of FLAN-PaLM 62B coming in at 49.1 vs 49.9 which is pretty decent considering Flan-UL2 20B is approximately 7-8 times faster than Flan-PaLM 62B.  Chain-of-thought capabilities get much better A notable outcome of this set of experiments is that the gains on CoT versions of MMLU and BBH tasks have much larger delta, e.g., +7.4% for MMLU and +3.1% and BBH when compared to Flan-T5 XXL. This could be explained by the larger size of the model in general and also the fact that UL2 itself exhibits CoT capabilities (see CoT section of paper). It could be a combination of both.  It is also worth noting that CoT versions of MMLU and BBH still seem worse than direct prompting. However, these differences also apply to larger Flan-PaLM 62B models (and even sometimes to Flan-PaLM 540B) where the same phenomena is observed. On this note, we also explored self-consistency (Wang et al.) to improve CoT performance and experienced an increase of +6% relative improvement on CoT just by using self-consistency. In this particular standalone experiment, the CoT + self consistency setup outperforms direct prompting by 3% relative improvement. We did not have time to explore this expanded search space of CoT + Self consistency, so we’re leaving this for future work or an exercise for the readers :). Limitations of Flan The Flan series of models are a good compact family of models that are relatively cost-friendly to launch, serve and do many great things with. It’s also free and on an unrestrictive license! However, there are some limitations of Flan-style models. For example, Flan is instruction tuned on primarily academic tasks where outputs are typically short, “academic” and traditional (See tweet by @ShayneRedford). You can imagine Flan to be instruction tuning on “academic tasks for academic tasks”. The debate of whether academic tasks are still relevant is another question altogether.  That said, section 6 “Human usability” in the Flan2 paper shows that Flan still improves usability on open ended generation including creativity, explanation etc. Overall, the Flan series models have proven to be impactful and useful if you know what you’re using it for. We would like people to keep the above limitation in mind especially when considering what Flan models can do and can’t do.  Expanding the options (and size ceiling) of Flan family of models! Overall, Flan-UL2 20B model expands the size ceiling of the current Flan-T5 models by approximately 2x, i.e., folks now have the option to go to 20B if they wish. Based on our evals, we think that Flan-UL2 is a better model than Flan-T5 XXL.  It is also the best open source model at the moment on Big-Bench hard and MMLU.  We’re very excited to see what the community does with this new model. Acknowledgements Thanks to Mostafa Dehghani (co-lead on UL2), Shayne Longpre, Jason Wei, Hyung Won Chung, Le Hou (co-leads on Flan) and Vinh Tran for feedback on this post. This work was also made possible with the help and contributions from all the authors on the UL2 paper and Flan2 paper. Senior Research Scientist at Google Brain, Singapore. Made with Squarespace\n"
     ]
    }
   ],
   "source": [
    "text_content = parser.get_content()\n",
    "print(text_content)"
   ]
  },
  {
   "cell_type": "code",
   "execution_count": 6,
   "id": "a8c06f82",
   "metadata": {},
   "outputs": [
    {
     "name": "stdout",
     "output_type": "stream",
     "text": [
      "We release a new open source Flan 20B model that was trained on top of the already open sourced UL2 20B checkpoint.  The full technical details have already been updated to the UL2 paper and the checkpoints have been uploaded to Github. Naturally, this model has the same configuration as the original UL2 20B model, except that it has been instruction tuned with Flan.  We expect that it substantially improve “usability” of the original UL2 model. This model, similar to Flan-T5 and the original UL2 models, are released on Apache license. Flan Instruction Tuning In “Scaling Instruction-Finetuned language models (Chung et al.)” (also referred to sometimes as the Flan2 paper), the key idea is to train a large language model on a collection of datasets. These datasets are phrased as instructions which enable generalization across diverse tasks. Flan has been primarily trained on academic tasks. In Flan2, we released a series of T5 models ranging from 200M to 11B parameters that have been instruction tuned with Flan. The Flan datasets have also been open sourced in “The Flan Collection: Designing Data and Methods for Effective Instruction Tuning” (Longpre et al.). See Google AI Blogpost: “The Flan Collection: Advancing Open Source Methods for Instruction Tuning”.  Flan 20B with UL2 20B checkpoint The UL2 20B was open sourced back in Q2 2022 (see “Blogpost: UL2 20B: An Open Source Unified Language Learner”). UL2 20B (~19.5B parameters to be exact) is trained  exclusively on the C4 corpus (similar to T5 models). The UL2 model was trained on the new UL2 objective which trains on a mixture-of-denoisers (diverse span corruption and prefix language modeling tasks). There are two major updates we make to the UL2 20B model with Flan.  The original UL2 model was only trained with receptive field of 512, which made it non-ideal for N-shot prompting where N is large. This Flan-UL2 checkpoint uses a receptive field of 2048 which makes it more usable for few-shot in-context learning. The original UL2 model also had mode switch tokens that was rather mandatory to get good performance. However, they were a little cumbersome as this requires often some changes during inference or finetuning. In this update/change, we continue training UL2 20B for an additional 100k steps (with small batch) to forget “mode tokens” before applying Flan instruction tuning. This Flan-UL2 checkpoint does not require mode tokens anymore. Overall Quality We compare Flan-UL2 20B with other models in the Flan series. We report relative improvements over Flan-T5-XXL. Generally, Flan-UL2 outperforms Flan-T5 XXL on all four setups with an overall decent performance lift of +3.2% relative improvement. Most of the gains seem to come from the CoT setup while performance on direct prompting (MMLU and BBH) seems to be modest at best. We also note that the overall performance of Flan-UL2 20B approaches the performance of FLAN-PaLM 62B coming in at 49.1 vs 49.9 which is pretty decent considering Flan-UL2 20B is approximately 7-8 times faster than Flan-PaLM 62B.  Chain-of-thought capabilities get much better A notable outcome of this set of experiments is that the gains on CoT versions of MMLU and BBH tasks have much larger delta, e.g., +7.4% for MMLU and +3.1% and BBH when compared to Flan-T5 XXL. This could be explained by the larger size of the model in general and also the fact that UL2 itself exhibits CoT capabilities (see CoT section of paper). It could be a combination of both.  It is also worth noting that CoT versions of MMLU and BBH still seem worse than direct prompting. However, these differences also apply to larger Flan-PaLM 62B models (and even sometimes to Flan-PaLM 540B) where the same phenomena is observed. On this note, we also explored self-consistency (Wang et al.) to improve CoT performance and experienced an increase of +6% relative improvement on CoT just by using self-consistency. In this particular standalone experiment, the CoT + self consistency setup outperforms direct prompting by 3% relative improvement. We did not have time to explore this expanded search space of CoT + Self consistency, so we’re leaving this for future work or an exercise for the readers :). Limitations of Flan The Flan series of models are a good compact family of models that are relatively cost-friendly to launch, serve and do many great things with. It’s also free and on an unrestrictive license! However, there are some limitations of Flan-style models. For example, Flan is instruction tuned on primarily academic tasks where outputs are typically short, “academic” and traditional (See tweet by @ShayneRedford). You can imagine Flan to be instruction tuning on “academic tasks for academic tasks”. The debate of whether academic tasks are still relevant is another question altogether.  That said, section 6 “Human usability” in the Flan2 paper shows that Flan still improves usability on open ended generation including creativity, explanation etc. Overall, the Flan series models have proven to be impactful and useful if you know what you’re using it for. We would like people to keep the above limitation in mind especially when considering what Flan models can do and can’t do.  Expanding the options (and size ceiling) of Flan family of models! Overall, Flan-UL2 20B model expands the size ceiling of the current Flan-T5 models by approximately 2x, i.e., folks now have the option to go to 20B if they wish. Based on our evals, we think that Flan-UL2 is a better model than Flan-T5 XXL.  It is also the best open source model at the moment on Big-Bench hard and MMLU.  We’re very excited to see what the community does with this new model. \n"
     ]
    }
   ],
   "source": [
    "text_content = parser.get_content_slice('We release a new', 'Acknowledgements Thanks')\n",
    "print(text_content)"
   ]
  },
  {
   "cell_type": "code",
   "execution_count": 7,
   "id": "e93f778a",
   "metadata": {},
   "outputs": [],
   "source": [
    "prompt, tokens = prompts.extract_model_card(model_card.ATTRIBUTES, text_content)"
   ]
  },
  {
   "cell_type": "code",
   "execution_count": 8,
   "id": "80b55a0a",
   "metadata": {},
   "outputs": [],
   "source": [
    "response = openai.text(\n",
    "    prompt=prompt, \n",
    "    max_tokens=tokens, \n",
    "    temperature=0)"
   ]
  },
  {
   "cell_type": "code",
   "execution_count": 9,
   "id": "edb58b7d",
   "metadata": {},
   "outputs": [
    {
     "name": "stdout",
     "output_type": "stream",
     "text": [
      "```\n",
      "{\n",
      "    \"Name\": \"Flan 20B\",\n",
      "    \"Size\": \"19.5B parameters\",\n",
      "    \"License\": \"Apache\",\n",
      "    \"Publisher\": \"Google AI\",\n",
      "    \"Description\": \"Instruction tuned with Flan, receptive field of 2048, no mode tokens, trained on C4 corpus\",\n",
      "    \"Keywords\": \"Instruction tuning, Flan, UL2, T5, Apache, Google AI\",\n",
      "    \"Version\": \"20B\",\n",
      "    \"Release Date\": \"Q2 2022\",\n",
      "    \"Training corpus\": \"C4 corpus\",\n",
      "    \"Training method\": \"UL2 objective\",\n",
      "    \"Evaluation method\": \"Big-Bench hard and MMLU\",\n",
      "    \"Use Cases\": \"N-shot prompting, few-shot in-context learning\",\n",
      "    \"Compute\": \"7-8 times faster than Flan-PaLM 62B\",\n",
      "    \"Features\": \"Expands size ceiling of Flan-T5 models by 2x\",\n",
      "    \"Limitations\": \"Instruction tuned on primarily academic tasks, not ideal for open ended generation\",\n",
      "    \"Strengths\": \"Best open source model at the moment on Big-Bench hard and MMLU\"\n",
      "}\n",
      "```\n"
     ]
    }
   ],
   "source": [
    "model_card_extract = response.choices[0].text.strip()\n",
    "print(model_card_extract)"
   ]
  },
  {
   "cell_type": "code",
   "execution_count": 10,
   "id": "8d1f9f4c",
   "metadata": {},
   "outputs": [],
   "source": [
    "model_card.set_extract(model_card_extract)"
   ]
  },
  {
   "cell_type": "code",
   "execution_count": 11,
   "id": "f8e39c7f",
   "metadata": {},
   "outputs": [
    {
     "name": "stdout",
     "output_type": "stream",
     "text": [
      "{'Name': 'Flan 20B', 'Size': '19.5B parameters', 'License': 'Apache', 'Publisher': 'Google AI', 'Description': 'Instruction tuned with Flan, receptive field of 2048, no mode tokens, trained on C4 corpus', 'Keywords': 'Instruction tuning, Flan, UL2, T5, Apache, Google AI', 'Version': '20B', 'Release Date': 'Q2 2022', 'Training corpus': 'C4 corpus', 'Training method': 'UL2 objective', 'Evaluation method': 'Big-Bench hard and MMLU', 'Use Cases': 'N-shot prompting, few-shot in-context learning', 'Compute': '7-8 times faster than Flan-PaLM 62B', 'Features': 'Expands size ceiling of Flan-T5 models by 2x', 'Limitations': 'Instruction tuned on primarily academic tasks, not ideal for open ended generation', 'Strengths': 'Best open source model at the moment on Big-Bench hard and MMLU'}\n"
     ]
    }
   ],
   "source": [
    "print(model_card.extract)"
   ]
  },
  {
   "cell_type": "code",
   "execution_count": 12,
   "id": "7fc2d213",
   "metadata": {},
   "outputs": [],
   "source": [
    "prompt, tokens = prompts.summarize(text_content)"
   ]
  },
  {
   "cell_type": "code",
   "execution_count": 13,
   "id": "962302af",
   "metadata": {},
   "outputs": [
    {
     "name": "stdout",
     "output_type": "stream",
     "text": [
      "This text describes the release of a new open source Flan 20B model that was trained on top of the already open sourced UL2 20B checkpoint. It has the same configuration as the original UL2 20B model, except that it has been instruction tuned with Flan. It is expected to improve the usability of the original UL2 model and has been released on Apache license. The text also discusses the relative improvements of Flan-UL2 20B compared to other models in the Flan series, as well as the limitations of Flan-style models. Finally, it is noted that the release of Flan-UL2 20B expands the size ceiling of the current Flan-T5 models by approximately 2x.\n"
     ]
    }
   ],
   "source": [
    "response = openai.text(\n",
    "    prompt=prompt, \n",
    "    max_tokens=tokens, \n",
    "    temperature=0)\n",
    "summary = response.choices[0].text.strip()\n",
    "print(summary)"
   ]
  },
  {
   "cell_type": "code",
   "execution_count": 14,
   "id": "3b13b48a",
   "metadata": {},
   "outputs": [],
   "source": [
    "model_card.set_summary(summary)"
   ]
  },
  {
   "cell_type": "code",
   "execution_count": 15,
   "id": "e6d860fd",
   "metadata": {},
   "outputs": [
    {
     "name": "stdout",
     "output_type": "stream",
     "text": [
      "---\n",
      "title: Flan 20B\n",
      "description: Instruction tuned with Flan, receptive field of 2048, no mode tokens, trained on C4 corpus\n",
      "tags:\n",
      "  - Instruction tuning\n",
      "  - Flan\n",
      "  - UL2\n",
      "  - T5\n",
      "  - Apache\n",
      "  - Google AI\n",
      "---\n",
      "\n",
      "# Flan 20B\n",
      "\n",
      "**Instruction tuned with Flan, receptive field of 2048, no mode tokens, trained on C4 corpus**\n",
      "\n",
      "| Publisher | License | Version | Release |\n",
      "| --- | --- | --- | --- |\n",
      "| Google AI | Apache | 20B | Q2 2022 |\n",
      "\n",
      "## Model Summary\n",
      "\n",
      "This text describes the release of a new open source Flan 20B model that was trained on top of the already open sourced UL2 20B checkpoint. It has the same configuration as the original UL2 20B model, except that it has been instruction tuned with Flan. It is expected to improve the usability of the original UL2 model and has been released on Apache license. The text also discusses the relative improvements of Flan-UL2 20B compared to other models in the Flan series, as well as the limitations of Flan-style models. Finally, it is noted that the release of Flan-UL2 20B expands the size ceiling of the current Flan-T5 models by approximately 2x.\n",
      "\n",
      "## Model Resources\n",
      "\n",
      "[🤗 Hugging Face](https://huggingface.co/google/flan-ul2) | [📄 Research Paper](https://arxiv.org/abs/2205.05131) | [🎬 Demo](https://huggingface.co/spaces/ybelkada/i-like-flan-ul2) | [📖 About Model](https://www.yitay.net/blog/flan-ul2-20b)\n",
      "\n",
      "## Model Details\n",
      "\n",
      "**Size:** 19.5B parameters\n",
      "\n",
      "**Use Cases:** N-shot prompting, few-shot in-context learning\n",
      "\n",
      "**Training corpus:** C4 corpus\n",
      "\n",
      "**Training method:** UL2 objective\n",
      "\n",
      "**Evaluation method:** Big-Bench hard and MMLU\n",
      "\n",
      "**Compute:** 7-8 times faster than Flan-PaLM 62B\n",
      "\n",
      "**Features:** Expands size ceiling of Flan-T5 models by 2x\n",
      "\n",
      "**Limitations:** Instruction tuned on primarily academic tasks, not ideal for open ended generation\n",
      "\n",
      "**Strengths:** Best open source model at the moment on Big-Bench hard and MMLU\n",
      "\n",
      "\n"
     ]
    }
   ],
   "source": [
    "generated_markdown = model_card.generate_material_mkdown()\n",
    "print(generated_markdown)"
   ]
  },
  {
   "cell_type": "code",
   "execution_count": 16,
   "id": "119493fe",
   "metadata": {},
   "outputs": [
    {
     "data": {
      "text/plain": [
       "'Model card saved as ../models/flan-b.md'"
      ]
     },
     "execution_count": 16,
     "metadata": {},
     "output_type": "execute_result"
    }
   ],
   "source": [
    "model_card.save_markdown(generated_markdown, \n",
    "                         filename=model_card.extract['Name'], \n",
    "                         folder='../models/')"
   ]
  }
 ],
 "metadata": {
  "kernelspec": {
   "display_name": "Python 3 (ipykernel)",
   "language": "python",
   "name": "python3"
  },
  "language_info": {
   "codemirror_mode": {
    "name": "ipython",
    "version": 3
   },
   "file_extension": ".py",
   "mimetype": "text/x-python",
   "name": "python",
   "nbconvert_exporter": "python",
   "pygments_lexer": "ipython3",
   "version": "3.10.10"
  }
 },
 "nbformat": 4,
 "nbformat_minor": 5
}
